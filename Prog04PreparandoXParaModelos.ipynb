{
 "cells": [
  {
   "cell_type": "markdown",
   "metadata": {},
   "source": [
    "# Caminhos e pacotes"
   ]
  },
  {
   "cell_type": "code",
   "execution_count": 1,
   "metadata": {},
   "outputs": [],
   "source": [
    "import pandas as pd\n",
    "pd.options.display.max_colwidth = 200\n",
    "\n",
    "import os\n",
    "import re\n",
    "from sklearn.model_selection import train_test_split\n",
    "import joblib\n",
    "from tqdm import tqdm\n",
    "import soundfile as sf  \n",
    "from pydub import AudioSegment\n",
    "import math  \n",
    "import shutil\n",
    "import numpy as np\n",
    "from scipy.io import wavfile\n",
    "import scipy\n",
    "from IPython.display import Audio\n",
    "\n",
    "import matplotlib.pyplot as plt\n",
    "%matplotlib inline\n",
    "\n",
    "###################################################################\n",
    "#Para converter mp3 em wav\n",
    "from pydub import AudioSegment\n",
    "AudioSegment.converter = \"C:\\\\ffmpeg\\\\bin\\\\ffmpeg.exe\"\n",
    "AudioSegment.ffmpeg = \"C:\\\\ffmpeg\\\\bin\\\\ffmpeg.exe\"\n",
    "AudioSegment.ffprobe =\"C:\\\\ffmpeg\\\\bin\\\\ffprobe.exe\"\n",
    "###################################################################\n",
    "\n",
    "#Folder Inicial\n",
    "path = os.getcwd()\n",
    "pathin = path + '\\\\entrada\\\\'   \n",
    "pathparcial = path + '\\\\parcial\\\\'"
   ]
  },
  {
   "cell_type": "markdown",
   "metadata": {},
   "source": [
    "## Salvando Variaveis"
   ]
  },
  {
   "cell_type": "code",
   "execution_count": 2,
   "metadata": {},
   "outputs": [
    {
     "name": "stderr",
     "output_type": "stream",
     "text": [
      "100%|████████████████████████████████████████████████████████████████████████████████| 216/216 [00:08<00:00, 27.00it/s]\n"
     ]
    },
    {
     "name": "stdout",
     "output_type": "stream",
     "text": [
      "1\n",
      "2\n"
     ]
    },
    {
     "data": {
      "text/plain": [
       "['C:\\\\Users\\\\laran\\\\Downloads\\\\BaixandoYoutube\\\\parcial\\\\TesteV2.pkl']"
      ]
     },
     "execution_count": 2,
     "metadata": {},
     "output_type": "execute_result"
    }
   ],
   "source": [
    "name = 'Teste'\n",
    "\n",
    "dicRate = {}\n",
    "dicSignal = {}\n",
    "dicLength = {}\n",
    "\n",
    "data = joblib.load(pathparcial + name + '.pkl')\n",
    "data.reset_index(inplace = True)\n",
    "\n",
    "data['rate'] = np.nan\n",
    "data['signal'] = np.nan\n",
    "data['length'] = np.nan\n",
    "\n",
    "data['rate'] = data['rate'].astype(object)\n",
    "data['signal'] = data['signal'].astype(object)\n",
    "data['length'] = data['length'].astype(object)\n",
    "\n",
    "\n",
    "for row in tqdm(range(0, data.shape[0])): \n",
    "    filename = data['path'][row] + '\\\\' + data['fileDown'][row]\n",
    "\n",
    "    rate, signal = wavfile.read(filename)\n",
    "    \n",
    "    dicRate[row] = rate\n",
    "    dicSignal[row] = np.asarray(signal.tolist())\n",
    "    dicLength[row] = signal.shape[0]/rate\n",
    "    \n",
    "    data.at[row, 'rate'] = rate #Sample Rate, quantos quadradinhos por segundo\n",
    "    data.at[row, 'signal'] = signal\n",
    "    data.at[row, 'length'] = signal.shape[0]/rate #Tamanho do sinal divido pela taxa de amostragem.\n",
    "                                                #Tamanho do sinal por segundo\n",
    "        \n",
    "joblib.dump(dicRate, pathparcial + 'dicRate' + name + '.pkl')\n",
    "print(1)\n",
    "joblib.dump(dicLength, pathparcial + 'dicLength' + name + '.pkl')\n",
    "print(2)\n",
    "joblib.dump(dicSignal, pathparcial + 'dicSignal' + name + '.pkl')\n",
    "\n",
    "\n",
    "joblib.dump(data, pathparcial + name + 'V2.pkl')"
   ]
  },
  {
   "cell_type": "code",
   "execution_count": 3,
   "metadata": {},
   "outputs": [
    {
     "name": "stderr",
     "output_type": "stream",
     "text": [
      "100%|████████████████████████████████████████████████████████████████████████████████| 945/945 [02:08<00:00,  7.36it/s]\n"
     ]
    },
    {
     "name": "stdout",
     "output_type": "stream",
     "text": [
      "1\n",
      "2\n"
     ]
    },
    {
     "data": {
      "text/plain": [
       "['C:\\\\Users\\\\laran\\\\Downloads\\\\BaixandoYoutube\\\\parcial\\\\TrainV2.pkl']"
      ]
     },
     "execution_count": 3,
     "metadata": {},
     "output_type": "execute_result"
    }
   ],
   "source": [
    "name = 'Train'\n",
    "\n",
    "dicRate = {}\n",
    "dicSignal = {}\n",
    "dicLength = {}\n",
    "\n",
    "data = joblib.load(pathparcial + name + '.pkl')\n",
    "data.reset_index(inplace = True)\n",
    "\n",
    "data['rate'] = np.nan\n",
    "data['signal'] = np.nan\n",
    "data['length'] = np.nan\n",
    "\n",
    "data['rate'] = data['rate'].astype(object)\n",
    "data['signal'] = data['signal'].astype(object)\n",
    "data['length'] = data['length'].astype(object)\n",
    "\n",
    "\n",
    "for row in tqdm(range(0, data.shape[0])): \n",
    "    filename = data['path'][row] + '\\\\' + data['fileDown'][row]\n",
    "\n",
    "    rate, signal = wavfile.read(filename)\n",
    "    \n",
    "    dicRate[row] = rate\n",
    "    dicSignal[row] = np.asarray(signal.tolist())\n",
    "    dicLength[row] = signal.shape[0]/rate\n",
    "    \n",
    "    data.at[row, 'rate'] = rate #Sample Rate, quantos quadradinhos por segundo\n",
    "    data.at[row, 'signal'] = signal\n",
    "    data.at[row, 'length'] = signal.shape[0]/rate #Tamanho do sinal divido pela taxa de amostragem.\n",
    "                                                #Tamanho do sinal por segundo\n",
    "        \n",
    "joblib.dump(dicRate, pathparcial + 'dicRate' + name + '.pkl')\n",
    "print(1)\n",
    "joblib.dump(dicLength, pathparcial + 'dicLength' + name + '.pkl')\n",
    "print(2)\n",
    "joblib.dump(dicSignal, pathparcial + 'dicSignal' + name + '.pkl')\n",
    "\n",
    "\n",
    "joblib.dump(data, pathparcial + name + 'V2.pkl')"
   ]
  }
 ],
 "metadata": {
  "kernelspec": {
   "display_name": "env transc",
   "language": "python",
   "name": "transc"
  },
  "language_info": {
   "codemirror_mode": {
    "name": "ipython",
    "version": 3
   },
   "file_extension": ".py",
   "mimetype": "text/x-python",
   "name": "python",
   "nbconvert_exporter": "python",
   "pygments_lexer": "ipython3",
   "version": "3.7.3"
  }
 },
 "nbformat": 4,
 "nbformat_minor": 2
}
