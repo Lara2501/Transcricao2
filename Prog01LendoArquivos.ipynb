{
 "cells": [
  {
   "cell_type": "markdown",
   "metadata": {},
   "source": [
    "# Caminhos e pacotes"
   ]
  },
  {
   "cell_type": "code",
   "execution_count": 1,
   "metadata": {},
   "outputs": [],
   "source": [
    "import pandas as pd\n",
    "pd.options.display.max_colwidth = 200\n",
    "\n",
    "import os\n",
    "import re\n",
    "from sklearn.model_selection import train_test_split\n",
    "import joblib\n",
    "from tqdm import tqdm\n",
    "import soundfile as sf  \n",
    "from pydub import AudioSegment\n",
    "import math  \n",
    "import shutil\n",
    "\n",
    "###################################################################\n",
    "#Para converter mp3 em wav\n",
    "from pydub import AudioSegment\n",
    "AudioSegment.converter = \"C:\\\\ffmpeg\\\\bin\\\\ffmpeg.exe\"\n",
    "AudioSegment.ffmpeg = \"C:\\\\ffmpeg\\\\bin\\\\ffmpeg.exe\"\n",
    "AudioSegment.ffprobe =\"C:\\\\ffmpeg\\\\bin\\\\ffprobe.exe\"\n",
    "###################################################################\n",
    "\n",
    "#Folder Inicial\n",
    "path = os.getcwd()\n",
    "pathin = path + '\\\\entrada\\\\'   \n",
    "pathparcial = path + '\\\\parcial\\\\'"
   ]
  },
  {
   "cell_type": "markdown",
   "metadata": {},
   "source": [
    "# Identificando arquivos"
   ]
  },
  {
   "cell_type": "code",
   "execution_count": 2,
   "metadata": {},
   "outputs": [
    {
     "name": "stdout",
     "output_type": "stream",
     "text": [
      "[6 7 8]\n",
      "(14, 3)\n"
     ]
    },
    {
     "data": {
      "text/html": [
       "<div>\n",
       "<style scoped>\n",
       "    .dataframe tbody tr th:only-of-type {\n",
       "        vertical-align: middle;\n",
       "    }\n",
       "\n",
       "    .dataframe tbody tr th {\n",
       "        vertical-align: top;\n",
       "    }\n",
       "\n",
       "    .dataframe thead th {\n",
       "        text-align: right;\n",
       "    }\n",
       "</style>\n",
       "<table border=\"1\" class=\"dataframe\">\n",
       "  <thead>\n",
       "    <tr style=\"text-align: right;\">\n",
       "      <th></th>\n",
       "      <th>index</th>\n",
       "      <th>paths</th>\n",
       "      <th>count</th>\n",
       "    </tr>\n",
       "  </thead>\n",
       "  <tbody>\n",
       "    <tr>\n",
       "      <th>0</th>\n",
       "      <td>2</td>\n",
       "      <td>C:\\Users\\laran\\Downloads\\BaixandoYoutube\\entrada\\Diogo\\AlmaBrasileira</td>\n",
       "      <td>7</td>\n",
       "    </tr>\n",
       "    <tr>\n",
       "      <th>1</th>\n",
       "      <td>4</td>\n",
       "      <td>C:\\Users\\laran\\Downloads\\BaixandoYoutube\\entrada\\Diogo\\Cuba</td>\n",
       "      <td>7</td>\n",
       "    </tr>\n",
       "    <tr>\n",
       "      <th>2</th>\n",
       "      <td>6</td>\n",
       "      <td>C:\\Users\\laran\\Downloads\\BaixandoYoutube\\entrada\\Diogo\\SouEu</td>\n",
       "      <td>7</td>\n",
       "    </tr>\n",
       "  </tbody>\n",
       "</table>\n",
       "</div>"
      ],
      "text/plain": [
       "   index  \\\n",
       "0      2   \n",
       "1      4   \n",
       "2      6   \n",
       "\n",
       "                                                                   paths  \\\n",
       "0  C:\\Users\\laran\\Downloads\\BaixandoYoutube\\entrada\\Diogo\\AlmaBrasileira   \n",
       "1            C:\\Users\\laran\\Downloads\\BaixandoYoutube\\entrada\\Diogo\\Cuba   \n",
       "2           C:\\Users\\laran\\Downloads\\BaixandoYoutube\\entrada\\Diogo\\SouEu   \n",
       "\n",
       "   count  \n",
       "0      7  \n",
       "1      7  \n",
       "2      7  "
      ]
     },
     "execution_count": 2,
     "metadata": {},
     "output_type": "execute_result"
    }
   ],
   "source": [
    "#Vendo todas as pastas e subpastas que tem\n",
    "df = pd.DataFrame({'paths': [x[0] for x in os.walk(pathin)]})\n",
    "df['count'] = df['paths'].apply(lambda x: len(re.findall(r\"\\\\\", x)))\n",
    "print(df['count'].unique())\n",
    "#Mantendo as pastas finais (mais profundas)\n",
    "#df = df[df['count'] == max(df['count'].unique())]\n",
    "df = df[df['count'] == 7]\n",
    "df.reset_index(inplace = True)\n",
    "print(df.shape)\n",
    "df.head(3)"
   ]
  },
  {
   "cell_type": "code",
   "execution_count": 3,
   "metadata": {},
   "outputs": [
    {
     "name": "stderr",
     "output_type": "stream",
     "text": [
      "100%|████████████████████████████████████████████████████████████████████████████████| 14/14 [00:00<00:00, 3506.94it/s]\n"
     ]
    }
   ],
   "source": [
    "filepath = list()\n",
    "filename = list()\n",
    "\n",
    "for j in tqdm(df['paths']):\n",
    "    mp3 = [f for f in os.listdir(j) if f.endswith('.mp3')]\n",
    "    for k in mp3:\n",
    "        filepath.extend([j + '\\\\'])\n",
    "        filename.extend([k])"
   ]
  },
  {
   "cell_type": "code",
   "execution_count": 4,
   "metadata": {},
   "outputs": [],
   "source": [
    "data = pd.DataFrame({'path': filepath, 'mp3': filename})\n",
    "data['wav'] = data['mp3'].apply(lambda x: x.replace('.mp3', '.wav'))"
   ]
  },
  {
   "cell_type": "markdown",
   "metadata": {},
   "source": [
    "## Convertendo MP3 em WAV"
   ]
  },
  {
   "cell_type": "code",
   "execution_count": 5,
   "metadata": {},
   "outputs": [],
   "source": [
    "#for i in tqdm(range(0, data.shape[0])):\n",
    "#    src = data['path'][i] + data['mp3'][i]\n",
    "#    dst = data['path'][i] + data['wav'][i]\n",
    "    \n",
    "#    # convert mp3 to wav (AudioSegment.from_mp3, AudioSegment.from_wav: também carregam o áudio, dando sound é só dar play)\n",
    "#    sound = AudioSegment.from_mp3(src)\n",
    "#    sound.export(dst, format = \"wav\")"
   ]
  },
  {
   "cell_type": "markdown",
   "metadata": {},
   "source": [
    "## Criando subpasta para salvar arquivos menores"
   ]
  },
  {
   "cell_type": "code",
   "execution_count": 6,
   "metadata": {},
   "outputs": [],
   "source": [
    "#Removendo as pastas, mesmo com arquivos (mesmo com read only files)\n",
    "for i in data['path'].unique():\n",
    "    shutil.rmtree(i + 'Menores\\\\', ignore_errors=True)"
   ]
  },
  {
   "cell_type": "code",
   "execution_count": 7,
   "metadata": {},
   "outputs": [],
   "source": [
    "for i in data['path'].unique():\n",
    "    try:\n",
    "        os.stat(i + 'Menores\\\\')\n",
    "    except:\n",
    "        os.mkdir(i + 'Menores\\\\')"
   ]
  },
  {
   "cell_type": "code",
   "execution_count": 8,
   "metadata": {},
   "outputs": [],
   "source": [
    "#Ouvindo 1 áudio de exemplo\n",
    "#import IPython.display as ipd\n",
    "#ipd.Audio(data['path'][0] + data['wav'][0]) # load a local WAV file"
   ]
  },
  {
   "cell_type": "markdown",
   "metadata": {},
   "source": [
    "## Separando os áudios em áudios menores"
   ]
  },
  {
   "cell_type": "code",
   "execution_count": 9,
   "metadata": {},
   "outputs": [],
   "source": [
    "#Quebrar em blocos de 30 segundos e excluir o último bloco (caso seja quebrado)\n",
    "#Excluir também o primeiro que pode ser introdução"
   ]
  },
  {
   "cell_type": "code",
   "execution_count": 10,
   "metadata": {},
   "outputs": [
    {
     "name": "stderr",
     "output_type": "stream",
     "text": [
      "100%|████████████████████████████████████████████████████████████████████████████████| 199/199 [06:23<00:00,  3.77s/it]\n"
     ]
    },
    {
     "data": {
      "text/plain": [
       "(1161, 5)"
      ]
     },
     "execution_count": 10,
     "metadata": {},
     "output_type": "execute_result"
    }
   ],
   "source": [
    "pathmenores = list()\n",
    "normesoriginal = list()\n",
    "nomesmenores = list()\n",
    "comeco = list()\n",
    "fim = list()\n",
    "\n",
    "#Quebrar em 30 segundos\n",
    "s = 30\n",
    "\n",
    "for i in tqdm(range(0, data.shape[0])):\n",
    "#for i in tqdm(range(0, 10)):\n",
    "    \n",
    "    Audio = AudioSegment.from_wav(data['path'][i] + data['wav'][i])\n",
    "    \n",
    "    #Divide por 1000 por se tratar de milisegundos\n",
    "    #Quebrar em 30 segundos\n",
    "    f = math.floor(len(Audio) / (1000 * s))\n",
    "    \n",
    "    for j in range(1,f): #Vai de 1 a (f - 1)\n",
    "        t1 = j * s * 1000\n",
    "        t2 = (j + 1) * s * 1000      \n",
    "        \n",
    "        newAudio = Audio[t1:t2]\n",
    "        newAudio.export(data['path'][i] + 'Menores\\\\' + 'Musica_' + str(i) + 'Parte_' + str(j) + '.wav', format = \"wav\")\n",
    "        \n",
    "        pathmenores.extend([data['path'][i] + 'Menores'])\n",
    "        normesoriginal.extend([data['wav'][i]])\n",
    "        nomesmenores.extend(['Musica_' + str(i) + 'Parte_' + str(j) + '.wav'])\n",
    "        comeco.extend([t1 / 1000])\n",
    "        fim.extend([t2 / 1000])\n",
    "        \n",
    "df = pd.DataFrame({'path': pathmenores, 'fileoriginal': normesoriginal,  'file': nomesmenores,\n",
    "                  'comeco': comeco, 'fim': fim})\n",
    "\n",
    "joblib.dump(df, pathparcial + 'BaseDeDados.pkl')\n",
    "\n",
    "df.shape"
   ]
  }
 ],
 "metadata": {
  "kernelspec": {
   "display_name": "env transc",
   "language": "python",
   "name": "transc"
  },
  "language_info": {
   "codemirror_mode": {
    "name": "ipython",
    "version": 3
   },
   "file_extension": ".py",
   "mimetype": "text/x-python",
   "name": "python",
   "nbconvert_exporter": "python",
   "pygments_lexer": "ipython3",
   "version": "3.7.3"
  }
 },
 "nbformat": 4,
 "nbformat_minor": 2
}
