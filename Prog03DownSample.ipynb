{
 "cells": [
  {
   "cell_type": "markdown",
   "metadata": {},
   "source": [
    "# Caminhos e pacotes"
   ]
  },
  {
   "cell_type": "code",
   "execution_count": 1,
   "metadata": {},
   "outputs": [],
   "source": [
    "import pandas as pd\n",
    "pd.options.display.max_colwidth = 200\n",
    "\n",
    "import os\n",
    "import re\n",
    "from sklearn.model_selection import train_test_split\n",
    "import joblib\n",
    "from tqdm import tqdm\n",
    "import soundfile as sf  \n",
    "from pydub import AudioSegment\n",
    "import math  \n",
    "import shutil\n",
    "import numpy as np\n",
    "from scipy.io import wavfile\n",
    "import scipy\n",
    "from IPython.display import Audio\n",
    "import math\n",
    "\n",
    "import matplotlib.pyplot as plt\n",
    "%matplotlib inline\n",
    "\n",
    "###################################################################\n",
    "#Para converter mp3 em wav\n",
    "from pydub import AudioSegment\n",
    "AudioSegment.converter = \"C:\\\\ffmpeg\\\\bin\\\\ffmpeg.exe\"\n",
    "AudioSegment.ffmpeg = \"C:\\\\ffmpeg\\\\bin\\\\ffmpeg.exe\"\n",
    "AudioSegment.ffprobe =\"C:\\\\ffmpeg\\\\bin\\\\ffprobe.exe\"\n",
    "###################################################################\n",
    "\n",
    "#Folder Inicial\n",
    "path = os.getcwd()\n",
    "pathin = path + '\\\\entrada\\\\'   \n",
    "pathparcial = path + '\\\\parcial\\\\'"
   ]
  },
  {
   "cell_type": "markdown",
   "metadata": {},
   "source": [
    "## DownSample"
   ]
  },
  {
   "cell_type": "code",
   "execution_count": 2,
   "metadata": {},
   "outputs": [],
   "source": [
    "def downsample(filename, newrate):\n",
    "    \n",
    "    newname = filename[:-4]+'-downRate'+str(newrate)+'.wav'\n",
    "    oldrate, signal = wavfile.read(filename)\n",
    "    signal = signal[:,0]\n",
    "\n",
    "    #Signal tem que ser array\n",
    "    length = int(len(signal) / oldrate)\n",
    "\n",
    "    #oldrate = len(signal) #Supondo sinal de 1 dimensão\n",
    "    vecsize = int(len(signal) - 1)\n",
    "    newsize = int(newrate * length)\n",
    "    #print(vecsize)\n",
    "    #print(newsize)\n",
    "\n",
    "    #O primeiro e o último pontos serão incluídos de qualquer forma, por isso precisamos determinar 2 pontos a menos\n",
    "    #E por isso também que diminuímos 2 elementos do nosso vetor\n",
    "\n",
    "    f = math.floor( (vecsize - 2) / (newsize - 2) )\n",
    "    #print(f)\n",
    "    index = [0] + list(range(f, f * (newsize - 1), f)) + [oldrate - 1]\n",
    "    signal = signal[index] #Aqui está o downsample\n",
    "    #print(len(signal))\n",
    "    wavfile.write(newname, newrate, signal)"
   ]
  },
  {
   "cell_type": "code",
   "execution_count": 3,
   "metadata": {},
   "outputs": [],
   "source": [
    "#tr.iloc[[327]]: Pega a linha 327\n",
    "#tr['path'][327]: Pega a linha com índice 327"
   ]
  },
  {
   "cell_type": "code",
   "execution_count": 4,
   "metadata": {},
   "outputs": [
    {
     "name": "stderr",
     "output_type": "stream",
     "text": [
      "100%|████████████████████████████████████████████████████████████████████████████████| 945/945 [01:47<00:00,  5.78it/s]\n"
     ]
    }
   ],
   "source": [
    "data = joblib.load(pathparcial + 'Train.pkl')\n",
    "data.reset_index(inplace = True)\n",
    "for row in tqdm(range(0, data.shape[0])):\n",
    "    downsample(data['path'][row] + '\\\\' + data['file'][row], 8000)"
   ]
  },
  {
   "cell_type": "code",
   "execution_count": 5,
   "metadata": {},
   "outputs": [
    {
     "name": "stderr",
     "output_type": "stream",
     "text": [
      "100%|████████████████████████████████████████████████████████████████████████████████| 216/216 [00:38<00:00,  6.49it/s]\n"
     ]
    }
   ],
   "source": [
    "data = joblib.load(pathparcial + 'Teste.pkl')\n",
    "data.reset_index(inplace = True)\n",
    "for row in tqdm(range(0, data.shape[0])):\n",
    "    downsample(data['path'][row] + '\\\\' + data['file'][row], 8000)"
   ]
  }
 ],
 "metadata": {
  "kernelspec": {
   "display_name": "env transc",
   "language": "python",
   "name": "transc"
  },
  "language_info": {
   "codemirror_mode": {
    "name": "ipython",
    "version": 3
   },
   "file_extension": ".py",
   "mimetype": "text/x-python",
   "name": "python",
   "nbconvert_exporter": "python",
   "pygments_lexer": "ipython3",
   "version": "3.7.3"
  }
 },
 "nbformat": 4,
 "nbformat_minor": 2
}
